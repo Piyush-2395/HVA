{
 "cells": [
  {
   "cell_type": "code",
   "execution_count": 1,
   "id": "cf11cbd2",
   "metadata": {},
   "outputs": [],
   "source": [
    "import re"
   ]
  },
  {
   "cell_type": "code",
   "execution_count": 2,
   "id": "20715e2b",
   "metadata": {},
   "outputs": [],
   "source": [
    "def check_password_strength(password):\n",
    "    #initialize the variables\n",
    "    upper_count,lower_count,digit_count,length,upper,lower, digit, special_char=0,0,0,0,0,0,0,0\n",
    "\n",
    "    #check for the length condition\n",
    "    if len(password)<8:\n",
    "        print('\\nPassword length should be greater than 8 charachters\\n')\n",
    "    else:\n",
    "        length = True\n",
    "\n",
    "    #iterate through each character of the string to check if it contains upper, lower or digits in it\n",
    "    for i in range(len(password)):\n",
    "        if password[i].isupper():\n",
    "            upper_count+=1\n",
    "        elif password[i].islower():\n",
    "            lower_count+=1\n",
    "        elif password[i].isdigit():\n",
    "            digit_count+=1\n",
    "\n",
    "    #if the count is greater than one means that the respective case is present in the password, thus we mark it as True\n",
    "    #else we print the message to user to correct it\n",
    "    if upper_count>=1:\n",
    "        upper=True\n",
    "    else:\n",
    "        print('Password should have atleast one upper case character\\n')\n",
    "\n",
    "    if lower_count>=1:\n",
    "        lower=True\n",
    "    else:\n",
    "        print('Password should have atleast one lower case character\\n')\n",
    "\n",
    "    if digit_count>=1:\n",
    "        digit=True\n",
    "    else:\n",
    "        print('Password should have atleast one digit\\n')\n",
    "\n",
    "    #check for special character in password\n",
    "    regex = re.compile('[@_!#$%^&*()<>?/\\|}{~:]')\n",
    "    #if special characters are not found the print the message to the user, else mark that condition as present\n",
    "    if(regex.search(password) == None):\n",
    "        print('Password should contain atleast one special character\\n')\n",
    "    else:\n",
    "        special_char = True\n",
    "    \n",
    "    if ((length==True) & (upper==True) & (lower==True) & (digit==True) & (special_char==True)):\n",
    "        print(password)\n",
    "        return True\n",
    "    else:\n",
    "        False"
   ]
  },
  {
   "cell_type": "code",
   "execution_count": 4,
   "id": "39bd7d17",
   "metadata": {},
   "outputs": [
    {
     "name": "stdout",
     "output_type": "stream",
     "text": [
      "Enter the password:piysh\n",
      "\n",
      "Password length should be greater than 8 charachters\n",
      "\n",
      "Password should have atleast one upper case character\n",
      "\n",
      "Password should have atleast one digit\n",
      "\n",
      "Password should contain atleast one special character\n",
      "\n"
     ]
    }
   ],
   "source": [
    "password = input('Enter the password:')\n",
    "check_password_strength(password)"
   ]
  },
  {
   "cell_type": "code",
   "execution_count": null,
   "id": "010064ab",
   "metadata": {},
   "outputs": [],
   "source": []
  }
 ],
 "metadata": {
  "kernelspec": {
   "display_name": "Python 3 (ipykernel)",
   "language": "python",
   "name": "python3"
  },
  "language_info": {
   "codemirror_mode": {
    "name": "ipython",
    "version": 3
   },
   "file_extension": ".py",
   "mimetype": "text/x-python",
   "name": "python",
   "nbconvert_exporter": "python",
   "pygments_lexer": "ipython3",
   "version": "3.10.11"
  }
 },
 "nbformat": 4,
 "nbformat_minor": 5
}
